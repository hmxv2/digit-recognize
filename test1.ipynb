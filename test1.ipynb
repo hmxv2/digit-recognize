{
 "cells": [
  {
   "cell_type": "code",
   "execution_count": 6,
   "metadata": {
    "collapsed": false
   },
   "outputs": [
    {
     "name": "stdout",
     "output_type": "stream",
     "text": [
      "imported!\n"
     ]
    }
   ],
   "source": [
    "#encoding: utf-8\n",
    "import csv\n",
    "import torch\n",
    "from torch import nn, optim\n",
    "from torch.autograd import Variable\n",
    "import torch.nn.functional as F\n",
    "from torch.utils.data import DataLoader,Dataset\n",
    "import pickle\n",
    "import numpy as np\n",
    "import matplotlib.pyplot as plt\n",
    "from sklearn.metrics import roc_auc_score\n",
    "import math\n",
    "import pandas as pd\n",
    "import os\n",
    "print('imported!')\n",
    "    "
   ]
  },
  {
   "cell_type": "code",
   "execution_count": 7,
   "metadata": {
    "collapsed": false
   },
   "outputs": [
    {
     "data": {
      "text/plain": [
       "'\\nclass Net(nn.Module):\\n    def __init__(self):\\n        super(Net,self).__init__()\\n        self.conv1=nn.Conv2d(1,20,5)\\n        self.conv2=nn.Conv2d(20,30,4)\\n        self.fc1=nn.Linear(30*16,300)\\n        self.fc2=nn.Linear(300,180)\\n        self.fc3=nn.Linear(180,10)\\n        self.relu=nn.ReLU()#Sigmoid()#ReLU()#Sigmoid()\\n        self.softmax=nn.Softmax()\\n        self.dropout=nn.Dropout(0.4)\\n    def forward(self,x):\\n        x=self.conv1(x)\\n        x=F.max_pool2d(self.relu(x),(2,2))\\n        x=self.conv2(x)\\n        x=F.max_pool2d(self.relu(x),2)\\n        x=x.view(-1,self.num_flat_features(x))\\n        #print(x)\\n        x=self.relu(self.fc1(x))\\n        x=self.relu(self.fc2(x))\\n        x=self.fc3(x)\\n        return x\\n    \\n    def num_flat_features(self,x):\\n        size=x.size()[1:]\\n        num_features=1\\n        for s in size:\\n            num_features*=s\\n        return num_features\\n'"
      ]
     },
     "execution_count": 7,
     "metadata": {},
     "output_type": "execute_result"
    }
   ],
   "source": [
    "class Net(nn.Module):\n",
    "    def __init__(self):\n",
    "        super(Net,self).__init__()\n",
    "        self.conv1=nn.Conv2d(1,32,3,padding=1)\n",
    "        self.conv2=nn.Conv2d(32,64,3,padding=1)\n",
    "        self.conv3=nn.Conv2d(64,128,3,padding=1)\n",
    "        self.fc1=nn.Linear(1152,500)\n",
    "        self.fc2=nn.Linear(500,100)\n",
    "        self.fc3=nn.Linear(100,10)\n",
    "        self.relu=nn.ReLU()#Sigmoid()#ReLU()#Sigmoid()\n",
    "        self.softmax=nn.Softmax()\n",
    "        self.dropout_dot5=nn.Dropout(0.5)\n",
    "        self.dropout_dot4=nn.Dropout(0.4)\n",
    "        self.dropout_dot3=nn.Dropout(0.3)\n",
    "    def forward(self,x):\n",
    "        x=self.conv1(x)\n",
    "        x=F.max_pool2d(self.relu(x),(2,2))\n",
    "        x=self.conv2(x)\n",
    "        x=F.max_pool2d(self.relu(x),2)\n",
    "        x=self.conv3(x)\n",
    "        x=F.max_pool2d(self.relu(x),2)\n",
    "        x=x.view(-1,self.num_flat_features(x))\n",
    "        #print(x)\n",
    "        x=self.dropout(x)\n",
    "        x=self.relu(self.fc1(x))\n",
    "        x=self.relu(self.fc2(x))\n",
    "        x=self.fc3(x)\n",
    "        return x\n",
    "    \n",
    "    def num_flat_features(self,x):\n",
    "        size=x.size()[1:]\n",
    "        num_features=1\n",
    "        for s in size:\n",
    "            num_features*=s\n",
    "        return num_features"
   ]
  },
  {
   "cell_type": "code",
   "execution_count": 8,
   "metadata": {
    "collapsed": false
   },
   "outputs": [],
   "source": [
    "#import data for training\n",
    "path=os.getcwd()+'/test.csv'#/sample_submission.csv'\n",
    "test_data=pd.read_csv(path)"
   ]
  },
  {
   "cell_type": "code",
   "execution_count": 9,
   "metadata": {
    "collapsed": false
   },
   "outputs": [],
   "source": [
    "test_data=np.array(test_data)\n",
    "row_num=len(test_data)\n",
    "#get test data in 4d\n",
    "test_data_4d=np.ones((row_num,1,28,28))\n",
    "for idx in range(row_num):\n",
    "    test_data_4d[idx,0]=test_data[idx].reshape((28,28))\n",
    "#print(test_data_4d)"
   ]
  },
  {
   "cell_type": "code",
   "execution_count": 10,
   "metadata": {
    "collapsed": false
   },
   "outputs": [
    {
     "data": {
      "text/plain": [
       "array([ 2.,  0.,  9., ...,  3.,  9.,  2.])"
      ]
     },
     "execution_count": 10,
     "metadata": {},
     "output_type": "execute_result"
    }
   ],
   "source": [
    "#load model\n",
    "model=torch.load('./bettermodels/model.pkl')\n",
    "#test\n",
    "model.eval()\n",
    "batch_div=10\n",
    "batch_len=int(len(test_data_4d)/batch_div)\n",
    "predict=np.zeros(len(test_data_4d))\n",
    "for ii in [x*batch_len for x in range(batch_div)]:\n",
    "    predict_out=model(Variable(torch.from_numpy(test_data_4d[ii:ii+batch_len])).float())\n",
    "    max_value,max_idx=torch.max(predict_out,1)\n",
    "    predict[ii:ii+batch_len]=max_idx.data.numpy()\n",
    "\n",
    "#predict_out=model(Variable(torch.from_numpy(test_data_4d)).float())\n",
    "#max_value,max_idx=torch.max(predict_out,1)\n",
    "#predict=max_idx.data.numpy()\n",
    "predict"
   ]
  },
  {
   "cell_type": "code",
   "execution_count": 11,
   "metadata": {
    "collapsed": true
   },
   "outputs": [],
   "source": [
    "with open(\"result.csv\",\"w\") as csvfile: \n",
    "    writer = csv.writer(csvfile)\n",
    "    #先写入columns_name\n",
    "    writer.writerow([\"ImageId\",\"Label\"])\n",
    "    #写入多行用writerows\n",
    "    for idx in range(len(predict)):\n",
    "        writer.writerow([str((idx+1)),str(int(predict[idx]))])"
   ]
  }
 ],
 "metadata": {
  "kernelspec": {
   "display_name": "Python [conda root]",
   "language": "python",
   "name": "conda-root-py"
  },
  "language_info": {
   "codemirror_mode": {
    "name": "ipython",
    "version": 3
   },
   "file_extension": ".py",
   "mimetype": "text/x-python",
   "name": "python",
   "nbconvert_exporter": "python",
   "pygments_lexer": "ipython3",
   "version": "3.5.2"
  }
 },
 "nbformat": 4,
 "nbformat_minor": 1
}
